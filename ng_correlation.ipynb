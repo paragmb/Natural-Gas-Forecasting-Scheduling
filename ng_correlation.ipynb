{
 "cells": [
  {
   "cell_type": "markdown",
   "metadata": {},
   "source": [
    "# Identifying Patterns and Establishing Correlations\n",
    "\n",
    "In this part of Project 2, we will analyze time series data for natural gas to identify any correlations among natural gas price, ambient temperature, natural gas consumption, storage and LNG exports.\n",
    "\n",
    "\n",
    "#### Set Up and Visualize the Data\n",
    "\n",
    "1. Read the time series data into Pandas DataFrame, `df_ng`. Set the “date” column as the index for the DataFrame.\n",
    "\n",
    "2. Later Later Later\n",
    "\n",
    "3. Later Later Later\n",
    "    \n",
    "\n",
    "#### Correlations and HeatMap\n",
    "\n",
    "1. Use the Pandas `corr` function to compute the correlations among natural gas price, ambient temperature, natural gas consumption, storage and LNG exports.\n",
    "\n",
    "2. HeatMap\n",
    "\n",
    "References:\n",
    "\n",
    "[Pandas corr function](https://pandas.pydata.org/pandas-docs/stable/reference/api/pandas.DataFrame.corr.html)\n"
   ]
  },
  {
   "cell_type": "code",
   "execution_count": 12,
   "metadata": {},
   "outputs": [],
   "source": [
    "# Import the required libraries and dependencies\n",
    "import pandas as pd\n",
    "import hvplot.pandas\n",
    "import numpy as np\n",
    "from path import Path\n",
    "%matplotlib inline"
   ]
  },
  {
   "cell_type": "markdown",
   "metadata": {},
   "source": [
    "## Set up and Visualize the Data"
   ]
  },
  {
   "cell_type": "markdown",
   "metadata": {},
   "source": [
    "### Step 1: Read the time series data into Pandas DataFrame, `df_ng`. Set the “date” column as the index for the DataFrame."
   ]
  },
  {
   "cell_type": "code",
   "execution_count": 13,
   "metadata": {},
   "outputs": [
    {
     "data": {
      "text/html": [
       "<div>\n",
       "<style scoped>\n",
       "    .dataframe tbody tr th:only-of-type {\n",
       "        vertical-align: middle;\n",
       "    }\n",
       "\n",
       "    .dataframe tbody tr th {\n",
       "        vertical-align: top;\n",
       "    }\n",
       "\n",
       "    .dataframe thead th {\n",
       "        text-align: right;\n",
       "    }\n",
       "</style>\n",
       "<table border=\"1\" class=\"dataframe\">\n",
       "  <thead>\n",
       "    <tr style=\"text-align: right;\">\n",
       "      <th></th>\n",
       "      <th>Price</th>\n",
       "      <th>Temperature</th>\n",
       "      <th>Consumption</th>\n",
       "      <th>Storage</th>\n",
       "      <th>Exports</th>\n",
       "    </tr>\n",
       "    <tr>\n",
       "      <th>Date</th>\n",
       "      <th></th>\n",
       "      <th></th>\n",
       "      <th></th>\n",
       "      <th></th>\n",
       "      <th></th>\n",
       "    </tr>\n",
       "  </thead>\n",
       "  <tbody>\n",
       "    <tr>\n",
       "      <th>2012-01-15</th>\n",
       "      <td>2.67</td>\n",
       "      <td>36.12</td>\n",
       "      <td>2756180</td>\n",
       "      <td>2910007</td>\n",
       "      <td>6199</td>\n",
       "    </tr>\n",
       "    <tr>\n",
       "      <th>2012-02-15</th>\n",
       "      <td>2.51</td>\n",
       "      <td>37.51</td>\n",
       "      <td>2500654</td>\n",
       "      <td>2448810</td>\n",
       "      <td>1880</td>\n",
       "    </tr>\n",
       "    <tr>\n",
       "      <th>2012-03-15</th>\n",
       "      <td>2.17</td>\n",
       "      <td>50.41</td>\n",
       "      <td>2127761</td>\n",
       "      <td>2473130</td>\n",
       "      <td>2615</td>\n",
       "    </tr>\n",
       "    <tr>\n",
       "      <th>2012-04-15</th>\n",
       "      <td>1.95</td>\n",
       "      <td>54.68</td>\n",
       "      <td>1953071</td>\n",
       "      <td>2611226</td>\n",
       "      <td>18</td>\n",
       "    </tr>\n",
       "    <tr>\n",
       "      <th>2012-05-15</th>\n",
       "      <td>2.43</td>\n",
       "      <td>63.45</td>\n",
       "      <td>1873835</td>\n",
       "      <td>2887060</td>\n",
       "      <td>2811</td>\n",
       "    </tr>\n",
       "  </tbody>\n",
       "</table>\n",
       "</div>"
      ],
      "text/plain": [
       "            Price  Temperature  Consumption  Storage  Exports\n",
       "Date                                                         \n",
       "2012-01-15   2.67        36.12      2756180  2910007     6199\n",
       "2012-02-15   2.51        37.51      2500654  2448810     1880\n",
       "2012-03-15   2.17        50.41      2127761  2473130     2615\n",
       "2012-04-15   1.95        54.68      1953071  2611226       18\n",
       "2012-05-15   2.43        63.45      1873835  2887060     2811"
      ]
     },
     "execution_count": 13,
     "metadata": {},
     "output_type": "execute_result"
    }
   ],
   "source": [
    "# Read the data from the correlation.csv file into a Pandas DataFrame\n",
    "df_ng = pd.read_csv(\n",
    "    Path(\"Resources/correlation.csv\"), \n",
    "    index_col=\"Date\", \n",
    "    parse_dates=True, \n",
    "    infer_datetime_format=True\n",
    ")\n",
    "\n",
    "# Review the DataFrame\n",
    "df_ng.head()"
   ]
  },
  {
   "cell_type": "markdown",
   "metadata": {},
   "source": [
    "#### Step 2: Create the `df_ng_1` DataFrame from `df_ng` DataFrame, to include Price and Temperature variables. Use hvplot to visualize the time series data."
   ]
  },
  {
   "cell_type": "code",
   "execution_count": 14,
   "metadata": {},
   "outputs": [
    {
     "data": {
      "text/html": [
       "<div>\n",
       "<style scoped>\n",
       "    .dataframe tbody tr th:only-of-type {\n",
       "        vertical-align: middle;\n",
       "    }\n",
       "\n",
       "    .dataframe tbody tr th {\n",
       "        vertical-align: top;\n",
       "    }\n",
       "\n",
       "    .dataframe thead th {\n",
       "        text-align: right;\n",
       "    }\n",
       "</style>\n",
       "<table border=\"1\" class=\"dataframe\">\n",
       "  <thead>\n",
       "    <tr style=\"text-align: right;\">\n",
       "      <th></th>\n",
       "      <th>Price</th>\n",
       "    </tr>\n",
       "    <tr>\n",
       "      <th>Date</th>\n",
       "      <th></th>\n",
       "    </tr>\n",
       "  </thead>\n",
       "  <tbody>\n",
       "    <tr>\n",
       "      <th>2012-01-15</th>\n",
       "      <td>2.67</td>\n",
       "    </tr>\n",
       "    <tr>\n",
       "      <th>2012-02-15</th>\n",
       "      <td>2.51</td>\n",
       "    </tr>\n",
       "    <tr>\n",
       "      <th>2012-03-15</th>\n",
       "      <td>2.17</td>\n",
       "    </tr>\n",
       "    <tr>\n",
       "      <th>2012-04-15</th>\n",
       "      <td>1.95</td>\n",
       "    </tr>\n",
       "    <tr>\n",
       "      <th>2012-05-15</th>\n",
       "      <td>2.43</td>\n",
       "    </tr>\n",
       "  </tbody>\n",
       "</table>\n",
       "</div>"
      ],
      "text/plain": [
       "            Price\n",
       "Date             \n",
       "2012-01-15   2.67\n",
       "2012-02-15   2.51\n",
       "2012-03-15   2.17\n",
       "2012-04-15   1.95\n",
       "2012-05-15   2.43"
      ]
     },
     "metadata": {},
     "output_type": "display_data"
    },
    {
     "data": {},
     "metadata": {},
     "output_type": "display_data"
    },
    {
     "data": {
      "application/vnd.holoviews_exec.v0+json": "",
      "text/html": [
       "<div id='2373'>\n",
       "\n",
       "\n",
       "\n",
       "\n",
       "\n",
       "  <div class=\"bk-root\" id=\"ab4f4206-bcd9-4412-8804-5e2a387ca7a6\" data-root-id=\"2373\"></div>\n",
       "</div>\n",
       "<script type=\"application/javascript\">(function(root) {\n",
       "  function embed_document(root) {\n",
       "    var docs_json = {\"2e943734-0493-4d25-9bbe-31a31bc88600\":{\"defs\":[{\"extends\":null,\"module\":null,\"name\":\"ReactiveHTML1\",\"overrides\":[],\"properties\":[]},{\"extends\":null,\"module\":null,\"name\":\"FlexBox1\",\"overrides\":[],\"properties\":[{\"default\":\"flex-start\",\"kind\":null,\"name\":\"align_content\"},{\"default\":\"flex-start\",\"kind\":null,\"name\":\"align_items\"},{\"default\":\"row\",\"kind\":null,\"name\":\"flex_direction\"},{\"default\":\"wrap\",\"kind\":null,\"name\":\"flex_wrap\"},{\"default\":\"flex-start\",\"kind\":null,\"name\":\"justify_content\"}]},{\"extends\":null,\"module\":null,\"name\":\"TemplateActions1\",\"overrides\":[],\"properties\":[{\"default\":0,\"kind\":null,\"name\":\"open_modal\"},{\"default\":0,\"kind\":null,\"name\":\"close_modal\"}]},{\"extends\":null,\"module\":null,\"name\":\"MaterialTemplateActions1\",\"overrides\":[],\"properties\":[{\"default\":0,\"kind\":null,\"name\":\"open_modal\"},{\"default\":0,\"kind\":null,\"name\":\"close_modal\"}]}],\"roots\":{\"references\":[{\"attributes\":{\"overlay\":{\"id\":\"2400\"}},\"id\":\"2398\",\"type\":\"BoxZoomTool\"},{\"attributes\":{\"axis_label\":\"Price\",\"coordinates\":null,\"formatter\":{\"id\":\"2421\"},\"group\":null,\"major_label_policy\":{\"id\":\"2422\"},\"ticker\":{\"id\":\"2392\"}},\"id\":\"2391\",\"type\":\"LinearAxis\"},{\"attributes\":{},\"id\":\"2399\",\"type\":\"ResetTool\"},{\"attributes\":{\"bottom_units\":\"screen\",\"coordinates\":null,\"fill_alpha\":0.5,\"fill_color\":\"lightgrey\",\"group\":null,\"left_units\":\"screen\",\"level\":\"overlay\",\"line_alpha\":1.0,\"line_color\":\"black\",\"line_dash\":[4,4],\"line_width\":2,\"right_units\":\"screen\",\"syncable\":false,\"top_units\":\"screen\"},\"id\":\"2400\",\"type\":\"BoxAnnotation\"},{\"attributes\":{},\"id\":\"2418\",\"type\":\"DatetimeTickFormatter\"},{\"attributes\":{},\"id\":\"2422\",\"type\":\"AllLabels\"},{\"attributes\":{\"line_color\":\"#30a2da\",\"line_width\":2,\"x\":{\"field\":\"Date\"},\"y\":{\"field\":\"Price\"}},\"id\":\"2411\",\"type\":\"Line\"},{\"attributes\":{\"days\":[1,15]},\"id\":\"2439\",\"type\":\"DaysTicker\"},{\"attributes\":{},\"id\":\"2444\",\"type\":\"YearsTicker\"},{\"attributes\":{\"months\":[0,1,2,3,4,5,6,7,8,9,10,11]},\"id\":\"2440\",\"type\":\"MonthsTicker\"},{\"attributes\":{},\"id\":\"2419\",\"type\":\"AllLabels\"},{\"attributes\":{\"line_alpha\":0.1,\"line_color\":\"#30a2da\",\"line_width\":2,\"x\":{\"field\":\"Date\"},\"y\":{\"field\":\"Price\"}},\"id\":\"2412\",\"type\":\"Line\"},{\"attributes\":{\"children\":[{\"id\":\"2374\"},{\"id\":\"2378\"},{\"id\":\"2467\"}],\"margin\":[0,0,0,0],\"name\":\"Row03027\",\"tags\":[\"embedded\"]},\"id\":\"2373\",\"type\":\"Row\"},{\"attributes\":{\"days\":[1,8,15,22]},\"id\":\"2438\",\"type\":\"DaysTicker\"},{\"attributes\":{\"months\":[0,6]},\"id\":\"2443\",\"type\":\"MonthsTicker\"},{\"attributes\":{\"months\":[0,2,4,6,8,10]},\"id\":\"2441\",\"type\":\"MonthsTicker\"},{\"attributes\":{},\"id\":\"2421\",\"type\":\"BasicTickFormatter\"},{\"attributes\":{\"base\":60,\"mantissas\":[1,2,5,10,15,20,30],\"max_interval\":1800000.0,\"min_interval\":1000.0,\"num_minor_ticks\":0},\"id\":\"2434\",\"type\":\"AdaptiveTicker\"},{\"attributes\":{\"months\":[0,4,8]},\"id\":\"2442\",\"type\":\"MonthsTicker\"},{\"attributes\":{\"margin\":[5,5,5,5],\"name\":\"HSpacer03031\",\"sizing_mode\":\"stretch_width\"},\"id\":\"2374\",\"type\":\"Spacer\"},{\"attributes\":{\"end\":1642204800000.0,\"reset_end\":1642204800000.0,\"reset_start\":1326585600000.0,\"start\":1326585600000.0,\"tags\":[[[\"Date\",\"Date\",null]]]},\"id\":\"2375\",\"type\":\"Range1d\"},{\"attributes\":{\"days\":[1,4,7,10,13,16,19,22,25,28]},\"id\":\"2437\",\"type\":\"DaysTicker\"},{\"attributes\":{\"tools\":[{\"id\":\"2377\"},{\"id\":\"2395\"},{\"id\":\"2396\"},{\"id\":\"2397\"},{\"id\":\"2398\"},{\"id\":\"2399\"}]},\"id\":\"2401\",\"type\":\"Toolbar\"},{\"attributes\":{\"base\":24,\"mantissas\":[1,2,4,6,8,12],\"max_interval\":43200000.0,\"min_interval\":3600000.0,\"num_minor_ticks\":0},\"id\":\"2435\",\"type\":\"AdaptiveTicker\"},{\"attributes\":{\"coordinates\":null,\"group\":null,\"text_color\":\"black\",\"text_font_size\":\"12pt\"},\"id\":\"2379\",\"type\":\"Title\"},{\"attributes\":{\"callback\":null,\"formatters\":{\"@{Date}\":\"datetime\"},\"renderers\":[{\"id\":\"2414\"}],\"tags\":[\"hv_created\"],\"tooltips\":[[\"Date\",\"@{Date}{%F %T}\"],[\"Price\",\"@{Price}\"]]},\"id\":\"2377\",\"type\":\"HoverTool\"},{\"attributes\":{},\"id\":\"2409\",\"type\":\"Selection\"},{\"attributes\":{},\"id\":\"2383\",\"type\":\"LinearScale\"},{\"attributes\":{\"mantissas\":[1,2,5],\"max_interval\":500.0,\"num_minor_ticks\":0},\"id\":\"2433\",\"type\":\"AdaptiveTicker\"},{\"attributes\":{\"axis_label\":\"Date\",\"coordinates\":null,\"formatter\":{\"id\":\"2418\"},\"group\":null,\"major_label_policy\":{\"id\":\"2419\"},\"ticker\":{\"id\":\"2388\"}},\"id\":\"2387\",\"type\":\"DatetimeAxis\"},{\"attributes\":{\"line_alpha\":0.2,\"line_color\":\"#30a2da\",\"line_width\":2,\"x\":{\"field\":\"Date\"},\"y\":{\"field\":\"Price\"}},\"id\":\"2413\",\"type\":\"Line\"},{\"attributes\":{\"end\":6.437,\"reset_end\":6.437,\"reset_start\":1.1929999999999998,\"start\":1.1929999999999998,\"tags\":[[[\"Price\",\"Price\",null]]]},\"id\":\"2376\",\"type\":\"Range1d\"},{\"attributes\":{\"below\":[{\"id\":\"2387\"}],\"center\":[{\"id\":\"2390\"},{\"id\":\"2394\"}],\"height\":300,\"left\":[{\"id\":\"2391\"}],\"margin\":[5,5,5,5],\"min_border_bottom\":10,\"min_border_left\":10,\"min_border_right\":10,\"min_border_top\":10,\"renderers\":[{\"id\":\"2414\"}],\"sizing_mode\":\"fixed\",\"title\":{\"id\":\"2379\"},\"toolbar\":{\"id\":\"2401\"},\"width\":700,\"x_range\":{\"id\":\"2375\"},\"x_scale\":{\"id\":\"2383\"},\"y_range\":{\"id\":\"2376\"},\"y_scale\":{\"id\":\"2385\"}},\"id\":\"2378\",\"subtype\":\"Figure\",\"type\":\"Plot\"},{\"attributes\":{\"margin\":[5,5,5,5],\"name\":\"HSpacer03032\",\"sizing_mode\":\"stretch_width\"},\"id\":\"2467\",\"type\":\"Spacer\"},{\"attributes\":{\"axis\":{\"id\":\"2391\"},\"coordinates\":null,\"dimension\":1,\"grid_line_color\":null,\"group\":null,\"ticker\":null},\"id\":\"2394\",\"type\":\"Grid\"},{\"attributes\":{},\"id\":\"2430\",\"type\":\"UnionRenderers\"},{\"attributes\":{\"num_minor_ticks\":5,\"tickers\":[{\"id\":\"2433\"},{\"id\":\"2434\"},{\"id\":\"2435\"},{\"id\":\"2436\"},{\"id\":\"2437\"},{\"id\":\"2438\"},{\"id\":\"2439\"},{\"id\":\"2440\"},{\"id\":\"2441\"},{\"id\":\"2442\"},{\"id\":\"2443\"},{\"id\":\"2444\"}]},\"id\":\"2388\",\"type\":\"DatetimeTicker\"},{\"attributes\":{\"coordinates\":null,\"data_source\":{\"id\":\"2408\"},\"glyph\":{\"id\":\"2411\"},\"group\":null,\"hover_glyph\":null,\"muted_glyph\":{\"id\":\"2413\"},\"nonselection_glyph\":{\"id\":\"2412\"},\"selection_glyph\":{\"id\":\"2416\"},\"view\":{\"id\":\"2415\"}},\"id\":\"2414\",\"type\":\"GlyphRenderer\"},{\"attributes\":{\"data\":{\"Date\":{\"__ndarray__\":\"AACAnepNc0IAAMDv5FdzQgAAgHY6YXNCAADAyDRrc0IAAEC13HRzQgAAgAfXfnNCAAAA9H6Ic0IAAEBGeZJzQgAAgJhznHNCAAAAhRumc0IAAEDXFbBzQgAAwMO9uXNCAAAAFrjDc0IAAEBoss1zQgAAQIm11nNCAACA26/gc0IAAADIV+pzQgAAQBpS9HNCAADABvr9c0IAAABZ9Ad0QgAAQKvuEXRCAADAl5YbdEIAAADqkCV0QgAAgNY4L3RCAADAKDM5dEIAAAB7LUN0QgAAAJwwTHRCAABA7ipWdEIAAMDa0l90QgAAAC3NaXRCAACAGXVzdEIAAMBrb310QgAAAL5ph3RCAACAqhGRdEIAAMD8C5t0QgAAQOmzpHRCAACAO66udEIAAMCNqLh0QgAAwK6rwXRCAAAAAabLdEIAAIDtTdV0QgAAwD9I33RCAABALPDodEIAAIB+6vJ0QgAAwNDk/HRCAABAvYwGdUIAAIAPhxB1QgAAAPwuGnVCAABATikkdUIAAICgIy51QgAAQCd5N3VCAACAeXNBdUIAAABmG0t1QgAAQLgVVXVCAADApL1edUIAAAD3t2h1QgAAQEmycnVCAADANVp8dUIAAACIVIZ1QgAAgHT8j3VCAADAxvaZdUIAAAAZ8aN1QgAAADr0rHVCAABAjO62dUIAAMB4lsB1QgAAAMuQynVCAACAtzjUdUIAAMAJM951QgAAAFwt6HVCAACASNXxdUIAAMCaz/t1QgAAQId3BXZCAACA2XEPdkIAAMArbBl2QgAAwExvInZCAAAAn2ksdkIAAICLETZ2QgAAwN0LQHZCAABAyrNJdkIAAIAcrlN2QgAAwG6oXXZCAABAW1BndkIAAICtSnF2QgAAAJryenZCAABA7OyEdkIAAIA+5452QgAAgF/ql3ZCAADAseShdkIAAECejKt2QgAAgPCGtXZCAAAA3S6/dkIAAEAvKcl2QgAAgIEj03ZCAAAAbsvcdkIAAEDAxeZ2QgAAwKxt8HZCAAAA/2f6dkIAAEBRYgR3QgAAANi3DXdCAABAKrIXd0IAAMAWWiF3QgAAAGlUK3dCAACAVfw0d0IAAMCn9j53QgAAAPrwSHdCAACA5phSd0IAAMA4k1x3QgAAQCU7ZndCAACAdzVwd0IAAMDJL3p3QgAAwOoyg3dCAAAAPS2Nd0IAAIAp1ZZ3QgAAwHvPoHdCAABAaHeqd0IAAIC6cbR3QgAAwAxsvndCAABA+RPId0IAAIBLDtJ3QgAAADi223dCAABAirDld0I=\",\"dtype\":\"float64\",\"order\":\"little\",\"shape\":[121]},\"Price\":{\"__ndarray__\":\"XI/C9ShcBUAUrkfhehQEQFyPwvUoXAFAMzMzMzMz/z9xPQrXo3ADQK5H4XoUrgNAmpmZmZmZB0C4HoXrUbgGQM3MzMzMzAZAj8L1KFyPCkBSuB6F61EMQLgehetRuApApHA9CtejCkCkcD0K16MKQHsUrkfheg5ArkfhehSuEEApXI/C9SgQQKRwPQrXow5A9ihcj8L1DEBxPQrXo3ALQPYoXI/C9QxAcT0K16NwDUAfhetRuB4NQPYoXI/C9RBA16NwPQrXEkAAAAAAAAAYQJqZmZmZmRNApHA9CtejEkBSuB6F61ESQFyPwvUoXBJAMzMzMzMzEEBI4XoUrkcPQFyPwvUoXA9APQrXo3A9DkB7FK5H4XoQQNejcD0K1wtA7FG4HoXrB0D2KFyPwvUGQKRwPQrXowZA4XoUrkfhBEDNzMzMzMwGQD0K16NwPQZAuB6F61G4BkApXI/C9SgGQEjhehSuRwVAuB6F61G4AkC4HoXrUbgAQOF6FK5H4f4/PQrXo3A9AkDXo3A9Ctf/P65H4XoUrvs/uB6F61G4/j+4HoXrUbj+P7gehetRuARAj8L1KFyPBkCPwvUoXI8GQOxRuB6F6wdA16NwPQrXB0BmZmZmZmYEQLgehetRuAxAZmZmZmZmCkDNzMzMzMwGQArXo3A9CgdAzczMzMzMCEAzMzMzMzMJQNejcD0K1wdA16NwPQrXB0AzMzMzMzMHQNejcD0K1wdACtejcD0KB0AUrkfhehQIQI/C9ShcjwZA9ihcj8L1DkBcj8L1KFwFQIXrUbgehQVAZmZmZmZmBkBmZmZmZmYGQMP1KFyPwgdApHA9CtejBkCuR+F6FK4HQAAAAAAAAAhAPQrXo3A9CkBcj8L1KFwQQClcj8L1KBBA4XoUrkfhCECF61G4HoUFQJqZmZmZmQdAMzMzMzMzBUAfhetRuB4FQDMzMzMzMwNA9ihcj8L1AkDD9Shcj8IBQHsUrkfhegRApHA9CtejAkAzMzMzMzMFQMP1KFyPwgFAKVyPwvUoAECPwvUoXI/+P6RwPQrXo/w/16NwPQrX+z8AAAAAAAD8PxSuR+F6FPo/UrgehetR/D9mZmZmZmYCQLgehetRuP4/H4XrUbgeA0DhehSuR+EEQLgehetRuARArkfhehSuBUBmZmZmZmYVQPYoXI/C9QRASOF6FK5HBUBI4XoUrkcHQBSuR+F6FApAuB6F61G4DkBI4XoUrkcQQKRwPQrXoxRACtejcD0KFkAzMzMzMzMUQBSuR+F6FA5AhetRuB6FEUA=\",\"dtype\":\"float64\",\"order\":\"little\",\"shape\":[121]}},\"selected\":{\"id\":\"2409\"},\"selection_policy\":{\"id\":\"2430\"}},\"id\":\"2408\",\"type\":\"ColumnDataSource\"},{\"attributes\":{},\"id\":\"2385\",\"type\":\"LinearScale\"},{\"attributes\":{\"days\":[1,2,3,4,5,6,7,8,9,10,11,12,13,14,15,16,17,18,19,20,21,22,23,24,25,26,27,28,29,30,31]},\"id\":\"2436\",\"type\":\"DaysTicker\"},{\"attributes\":{\"axis\":{\"id\":\"2387\"},\"coordinates\":null,\"grid_line_color\":null,\"group\":null,\"ticker\":null},\"id\":\"2390\",\"type\":\"Grid\"},{\"attributes\":{\"source\":{\"id\":\"2408\"}},\"id\":\"2415\",\"type\":\"CDSView\"},{\"attributes\":{},\"id\":\"2392\",\"type\":\"BasicTicker\"},{\"attributes\":{\"line_color\":\"#30a2da\",\"line_width\":2,\"x\":{\"field\":\"Date\"},\"y\":{\"field\":\"Price\"}},\"id\":\"2416\",\"type\":\"Line\"},{\"attributes\":{},\"id\":\"2396\",\"type\":\"PanTool\"},{\"attributes\":{},\"id\":\"2395\",\"type\":\"SaveTool\"},{\"attributes\":{},\"id\":\"2397\",\"type\":\"WheelZoomTool\"}],\"root_ids\":[\"2373\"]},\"title\":\"Bokeh Application\",\"version\":\"2.4.2\"}};\n",
       "    var render_items = [{\"docid\":\"2e943734-0493-4d25-9bbe-31a31bc88600\",\"root_ids\":[\"2373\"],\"roots\":{\"2373\":\"ab4f4206-bcd9-4412-8804-5e2a387ca7a6\"}}];\n",
       "    root.Bokeh.embed.embed_items_notebook(docs_json, render_items);\n",
       "  }\n",
       "  if (root.Bokeh !== undefined && root.Bokeh.Panel !== undefined) {\n",
       "    embed_document(root);\n",
       "  } else {\n",
       "    var attempts = 0;\n",
       "    var timer = setInterval(function(root) {\n",
       "      if (root.Bokeh !== undefined && root.Bokeh.Panel !== undefined) {\n",
       "        clearInterval(timer);\n",
       "        embed_document(root);\n",
       "      } else if (document.readyState == \"complete\") {\n",
       "        attempts++;\n",
       "        if (attempts > 200) {\n",
       "          clearInterval(timer);\n",
       "          console.log(\"Bokeh: ERROR: Unable to run BokehJS code because BokehJS library is missing\");\n",
       "        }\n",
       "      }\n",
       "    }, 25, root)\n",
       "  }\n",
       "})(window);</script>"
      ],
      "text/plain": [
       ":Curve   [Date]   (Price)"
      ]
     },
     "execution_count": 14,
     "metadata": {
      "application/vnd.holoviews_exec.v0+json": {
       "id": "2373"
      }
     },
     "output_type": "execute_result"
    }
   ],
   "source": [
    "df_ng_1 = df_ng[[\"Price\"]]\n",
    "display(df_ng_1.head())\n",
    "df_ng_1.hvplot()"
   ]
  },
  {
   "cell_type": "markdown",
   "metadata": {},
   "source": [
    "### Step 3: Create the `df_ng_2` DataFrame from `df_ng` DataFrame, to include Price and Temperature variables. Use hvplot to visualize the time series data."
   ]
  },
  {
   "cell_type": "code",
   "execution_count": 15,
   "metadata": {},
   "outputs": [
    {
     "data": {
      "text/html": [
       "<div>\n",
       "<style scoped>\n",
       "    .dataframe tbody tr th:only-of-type {\n",
       "        vertical-align: middle;\n",
       "    }\n",
       "\n",
       "    .dataframe tbody tr th {\n",
       "        vertical-align: top;\n",
       "    }\n",
       "\n",
       "    .dataframe thead th {\n",
       "        text-align: right;\n",
       "    }\n",
       "</style>\n",
       "<table border=\"1\" class=\"dataframe\">\n",
       "  <thead>\n",
       "    <tr style=\"text-align: right;\">\n",
       "      <th></th>\n",
       "      <th>Temperature</th>\n",
       "    </tr>\n",
       "    <tr>\n",
       "      <th>Date</th>\n",
       "      <th></th>\n",
       "    </tr>\n",
       "  </thead>\n",
       "  <tbody>\n",
       "    <tr>\n",
       "      <th>2012-01-15</th>\n",
       "      <td>36.12</td>\n",
       "    </tr>\n",
       "    <tr>\n",
       "      <th>2012-02-15</th>\n",
       "      <td>37.51</td>\n",
       "    </tr>\n",
       "    <tr>\n",
       "      <th>2012-03-15</th>\n",
       "      <td>50.41</td>\n",
       "    </tr>\n",
       "    <tr>\n",
       "      <th>2012-04-15</th>\n",
       "      <td>54.68</td>\n",
       "    </tr>\n",
       "    <tr>\n",
       "      <th>2012-05-15</th>\n",
       "      <td>63.45</td>\n",
       "    </tr>\n",
       "  </tbody>\n",
       "</table>\n",
       "</div>"
      ],
      "text/plain": [
       "            Temperature\n",
       "Date                   \n",
       "2012-01-15        36.12\n",
       "2012-02-15        37.51\n",
       "2012-03-15        50.41\n",
       "2012-04-15        54.68\n",
       "2012-05-15        63.45"
      ]
     },
     "metadata": {},
     "output_type": "display_data"
    },
    {
     "data": {},
     "metadata": {},
     "output_type": "display_data"
    },
    {
     "data": {
      "application/vnd.holoviews_exec.v0+json": "",
      "text/html": [
       "<div id='2579'>\n",
       "\n",
       "\n",
       "\n",
       "\n",
       "\n",
       "  <div class=\"bk-root\" id=\"7ab4f08c-2b84-4cf1-acc7-ab117113e7c9\" data-root-id=\"2579\"></div>\n",
       "</div>\n",
       "<script type=\"application/javascript\">(function(root) {\n",
       "  function embed_document(root) {\n",
       "    var docs_json = {\"e6a08312-fa21-4f6c-a27a-f7c3eeee6ed8\":{\"defs\":[{\"extends\":null,\"module\":null,\"name\":\"ReactiveHTML1\",\"overrides\":[],\"properties\":[]},{\"extends\":null,\"module\":null,\"name\":\"FlexBox1\",\"overrides\":[],\"properties\":[{\"default\":\"flex-start\",\"kind\":null,\"name\":\"align_content\"},{\"default\":\"flex-start\",\"kind\":null,\"name\":\"align_items\"},{\"default\":\"row\",\"kind\":null,\"name\":\"flex_direction\"},{\"default\":\"wrap\",\"kind\":null,\"name\":\"flex_wrap\"},{\"default\":\"flex-start\",\"kind\":null,\"name\":\"justify_content\"}]},{\"extends\":null,\"module\":null,\"name\":\"TemplateActions1\",\"overrides\":[],\"properties\":[{\"default\":0,\"kind\":null,\"name\":\"open_modal\"},{\"default\":0,\"kind\":null,\"name\":\"close_modal\"}]},{\"extends\":null,\"module\":null,\"name\":\"MaterialTemplateActions1\",\"overrides\":[],\"properties\":[{\"default\":0,\"kind\":null,\"name\":\"open_modal\"},{\"default\":0,\"kind\":null,\"name\":\"close_modal\"}]}],\"roots\":{\"references\":[{\"attributes\":{\"end\":1642204800000.0,\"reset_end\":1642204800000.0,\"reset_start\":1326585600000.0,\"start\":1326585600000.0,\"tags\":[[[\"Date\",\"Date\",null]]]},\"id\":\"2581\",\"type\":\"Range1d\"},{\"attributes\":{},\"id\":\"2589\",\"type\":\"LinearScale\"},{\"attributes\":{\"months\":[0,4,8]},\"id\":\"2648\",\"type\":\"MonthsTicker\"},{\"attributes\":{\"callback\":null,\"formatters\":{\"@{Date}\":\"datetime\"},\"renderers\":[{\"id\":\"2620\"}],\"tags\":[\"hv_created\"],\"tooltips\":[[\"Date\",\"@{Date}{%F %T}\"],[\"Temperature\",\"@{Temperature}\"]]},\"id\":\"2583\",\"type\":\"HoverTool\"},{\"attributes\":{\"data\":{\"Date\":{\"__ndarray__\":\"AACAnepNc0IAAMDv5FdzQgAAgHY6YXNCAADAyDRrc0IAAEC13HRzQgAAgAfXfnNCAAAA9H6Ic0IAAEBGeZJzQgAAgJhznHNCAAAAhRumc0IAAEDXFbBzQgAAwMO9uXNCAAAAFrjDc0IAAEBoss1zQgAAQIm11nNCAACA26/gc0IAAADIV+pzQgAAQBpS9HNCAADABvr9c0IAAABZ9Ad0QgAAQKvuEXRCAADAl5YbdEIAAADqkCV0QgAAgNY4L3RCAADAKDM5dEIAAAB7LUN0QgAAAJwwTHRCAABA7ipWdEIAAMDa0l90QgAAAC3NaXRCAACAGXVzdEIAAMBrb310QgAAAL5ph3RCAACAqhGRdEIAAMD8C5t0QgAAQOmzpHRCAACAO66udEIAAMCNqLh0QgAAwK6rwXRCAAAAAabLdEIAAIDtTdV0QgAAwD9I33RCAABALPDodEIAAIB+6vJ0QgAAwNDk/HRCAABAvYwGdUIAAIAPhxB1QgAAAPwuGnVCAABATikkdUIAAICgIy51QgAAQCd5N3VCAACAeXNBdUIAAABmG0t1QgAAQLgVVXVCAADApL1edUIAAAD3t2h1QgAAQEmycnVCAADANVp8dUIAAACIVIZ1QgAAgHT8j3VCAADAxvaZdUIAAAAZ8aN1QgAAADr0rHVCAABAjO62dUIAAMB4lsB1QgAAAMuQynVCAACAtzjUdUIAAMAJM951QgAAAFwt6HVCAACASNXxdUIAAMCaz/t1QgAAQId3BXZCAACA2XEPdkIAAMArbBl2QgAAwExvInZCAAAAn2ksdkIAAICLETZ2QgAAwN0LQHZCAABAyrNJdkIAAIAcrlN2QgAAwG6oXXZCAABAW1BndkIAAICtSnF2QgAAAJryenZCAABA7OyEdkIAAIA+5452QgAAgF/ql3ZCAADAseShdkIAAECejKt2QgAAgPCGtXZCAAAA3S6/dkIAAEAvKcl2QgAAgIEj03ZCAAAAbsvcdkIAAEDAxeZ2QgAAwKxt8HZCAAAA/2f6dkIAAEBRYgR3QgAAANi3DXdCAABAKrIXd0IAAMAWWiF3QgAAAGlUK3dCAACAVfw0d0IAAMCn9j53QgAAAPrwSHdCAACA5phSd0IAAMA4k1x3QgAAQCU7ZndCAACAdzVwd0IAAMDJL3p3QgAAwOoyg3dCAAAAPS2Nd0IAAIAp1ZZ3QgAAwHvPoHdCAABAaHeqd0IAAIC6cbR3QgAAwAxsvndCAABA+RPId0IAAIBLDtJ3QgAAADi223dCAABAirDld0I=\",\"dtype\":\"float64\",\"order\":\"little\",\"shape\":[121]},\"Temperature\":{\"__ndarray__\":\"j8L1KFwPQkDhehSuR8FCQBSuR+F6NElA16NwPQpXS0CamZmZmblPQMP1KFyPolFA4XoUrkcxU0AzMzMzM3NSQKRwPQrXk1BAUrgehevxSkDhehSuRwFGQPYoXI/C9UFAAAAAAAAgQEDD9Shcj2JBQBSuR+F6dERA16NwPQrXSEDNzMzMzGxOQClcj8L1mFFAPQrXo3CNUkCPwvUoXD9SQD0K16NwvVBAuB6F61G4SkCuR+F6FM5EQI/C9ShcDz9Aj8L1KFyPPkBxPQrXoxBAQOF6FK5HQURAuB6F61HYSUDD9Shcj6JOQIXrUbgeZVFAw/UoXI9SUkAAAAAAABBSQM3MzMzMjFBA16NwPQp3TEAAAAAAAKBDQEjhehSuZ0JACtejcD2KQEAfhetRuH5AQFK4HoXrsUZAH4XrUbieSkDsUbgehWtOQEjhehSu11FAexSuR+F6UkDNzMzMzDxSQMP1KFyPIlFAH4XrUbieTEDNzMzMzExGQBSuR+F6VENAXI/C9SgcQEBcj8L1KLxDQAAAAAAAwEdAuB6F61GYSkAK16NwPSpOQHE9Ctej8FFArkfhehTOUkBSuB6F62FSQEjhehSux1BAXI/C9SjcTEBcj8L1KPxHQJqZmZmZeUBAKVyPwvXIQEDXo3A9CpdEQDMzMzMzE0dAZmZmZmbmSkApXI/C9UhOQNejcD0Kl1FAzczMzMzsUkBxPQrXowBSQOF6FK5HkVBAuB6F61HYS0CkcD0K14NGQIXrUbgeJUFAFK5H4XoUQEDhehSuR8FBQD0K16NwXUVApHA9CteDSEDhehSuR2FQQDMzMzMz41FAzczMzMzcUkBxPQrXo2BSQFK4HoXr4VBAexSuR+HaSkDhehSuRwFEQOF6FK5HwUFASOF6FK5HQEDXo3A9Ctc/QKRwPQrXI0RA7FG4HoVrSkAfhetRuL5NQK5H4XoULlFASOF6FK6nUkCPwvUoXG9SQOxRuB6FG1FAZmZmZmYGSkCuR+F6FI5EQNejcD0KN0JAZmZmZmbGQUDXo3A9ChdCQArXo3A9CkdAcT0K16NwSUAUrkfhenROQMP1KFyPklFAmpmZmZnpUkA9CtejcK1SQArXo3A9elBApHA9CtcjS0BI4XoUridHQHsUrkfh2kFAKVyPwvVIQUCamZmZmZk+QIXrUbgexUZAj8L1KFzvSUDNzMzMzCxOQPYoXI/CJVJAexSuR+HaUkAfhetRuH5SQDMzMzMz81BAXI/C9Sh8TEDsUbgehYtGQOxRuB6Fq0NAcT0K16MwP0A=\",\"dtype\":\"float64\",\"order\":\"little\",\"shape\":[121]}},\"selected\":{\"id\":\"2615\"},\"selection_policy\":{\"id\":\"2636\"}},\"id\":\"2614\",\"type\":\"ColumnDataSource\"},{\"attributes\":{},\"id\":\"2628\",\"type\":\"AllLabels\"},{\"attributes\":{},\"id\":\"2636\",\"type\":\"UnionRenderers\"},{\"attributes\":{\"axis\":{\"id\":\"2593\"},\"coordinates\":null,\"grid_line_color\":null,\"group\":null,\"ticker\":null},\"id\":\"2596\",\"type\":\"Grid\"},{\"attributes\":{\"line_alpha\":0.1,\"line_color\":\"#30a2da\",\"line_width\":2,\"x\":{\"field\":\"Date\"},\"y\":{\"field\":\"Temperature\"}},\"id\":\"2618\",\"type\":\"Line\"},{\"attributes\":{\"end\":81.39099999999999,\"reset_end\":81.39099999999999,\"reset_start\":25.939,\"start\":25.939,\"tags\":[[[\"Temperature\",\"Temperature\",null]]]},\"id\":\"2582\",\"type\":\"Range1d\"},{\"attributes\":{\"bottom_units\":\"screen\",\"coordinates\":null,\"fill_alpha\":0.5,\"fill_color\":\"lightgrey\",\"group\":null,\"left_units\":\"screen\",\"level\":\"overlay\",\"line_alpha\":1.0,\"line_color\":\"black\",\"line_dash\":[4,4],\"line_width\":2,\"right_units\":\"screen\",\"syncable\":false,\"top_units\":\"screen\"},\"id\":\"2606\",\"type\":\"BoxAnnotation\"},{\"attributes\":{\"below\":[{\"id\":\"2593\"}],\"center\":[{\"id\":\"2596\"},{\"id\":\"2600\"}],\"height\":300,\"left\":[{\"id\":\"2597\"}],\"margin\":[5,5,5,5],\"min_border_bottom\":10,\"min_border_left\":10,\"min_border_right\":10,\"min_border_top\":10,\"renderers\":[{\"id\":\"2620\"}],\"sizing_mode\":\"fixed\",\"title\":{\"id\":\"2585\"},\"toolbar\":{\"id\":\"2607\"},\"width\":700,\"x_range\":{\"id\":\"2581\"},\"x_scale\":{\"id\":\"2589\"},\"y_range\":{\"id\":\"2582\"},\"y_scale\":{\"id\":\"2591\"}},\"id\":\"2584\",\"subtype\":\"Figure\",\"type\":\"Plot\"},{\"attributes\":{},\"id\":\"2602\",\"type\":\"PanTool\"},{\"attributes\":{\"coordinates\":null,\"group\":null,\"text_color\":\"black\",\"text_font_size\":\"12pt\"},\"id\":\"2585\",\"type\":\"Title\"},{\"attributes\":{\"axis\":{\"id\":\"2597\"},\"coordinates\":null,\"dimension\":1,\"grid_line_color\":null,\"group\":null,\"ticker\":null},\"id\":\"2600\",\"type\":\"Grid\"},{\"attributes\":{\"axis_label\":\"Temperature\",\"coordinates\":null,\"formatter\":{\"id\":\"2627\"},\"group\":null,\"major_label_policy\":{\"id\":\"2628\"},\"ticker\":{\"id\":\"2598\"}},\"id\":\"2597\",\"type\":\"LinearAxis\"},{\"attributes\":{\"tools\":[{\"id\":\"2583\"},{\"id\":\"2601\"},{\"id\":\"2602\"},{\"id\":\"2603\"},{\"id\":\"2604\"},{\"id\":\"2605\"}]},\"id\":\"2607\",\"type\":\"Toolbar\"},{\"attributes\":{\"axis_label\":\"Date\",\"coordinates\":null,\"formatter\":{\"id\":\"2624\"},\"group\":null,\"major_label_policy\":{\"id\":\"2625\"},\"ticker\":{\"id\":\"2594\"}},\"id\":\"2593\",\"type\":\"DatetimeAxis\"},{\"attributes\":{\"line_color\":\"#30a2da\",\"line_width\":2,\"x\":{\"field\":\"Date\"},\"y\":{\"field\":\"Temperature\"}},\"id\":\"2617\",\"type\":\"Line\"},{\"attributes\":{\"num_minor_ticks\":5,\"tickers\":[{\"id\":\"2639\"},{\"id\":\"2640\"},{\"id\":\"2641\"},{\"id\":\"2642\"},{\"id\":\"2643\"},{\"id\":\"2644\"},{\"id\":\"2645\"},{\"id\":\"2646\"},{\"id\":\"2647\"},{\"id\":\"2648\"},{\"id\":\"2649\"},{\"id\":\"2650\"}]},\"id\":\"2594\",\"type\":\"DatetimeTicker\"},{\"attributes\":{},\"id\":\"2624\",\"type\":\"DatetimeTickFormatter\"},{\"attributes\":{},\"id\":\"2615\",\"type\":\"Selection\"},{\"attributes\":{},\"id\":\"2598\",\"type\":\"BasicTicker\"},{\"attributes\":{},\"id\":\"2627\",\"type\":\"BasicTickFormatter\"},{\"attributes\":{\"source\":{\"id\":\"2614\"}},\"id\":\"2621\",\"type\":\"CDSView\"},{\"attributes\":{},\"id\":\"2603\",\"type\":\"WheelZoomTool\"},{\"attributes\":{},\"id\":\"2591\",\"type\":\"LinearScale\"},{\"attributes\":{\"margin\":[5,5,5,5],\"name\":\"HSpacer03208\",\"sizing_mode\":\"stretch_width\"},\"id\":\"2580\",\"type\":\"Spacer\"},{\"attributes\":{\"line_alpha\":0.2,\"line_color\":\"#30a2da\",\"line_width\":2,\"x\":{\"field\":\"Date\"},\"y\":{\"field\":\"Temperature\"}},\"id\":\"2619\",\"type\":\"Line\"},{\"attributes\":{},\"id\":\"2601\",\"type\":\"SaveTool\"},{\"attributes\":{\"overlay\":{\"id\":\"2606\"}},\"id\":\"2604\",\"type\":\"BoxZoomTool\"},{\"attributes\":{},\"id\":\"2625\",\"type\":\"AllLabels\"},{\"attributes\":{\"coordinates\":null,\"data_source\":{\"id\":\"2614\"},\"glyph\":{\"id\":\"2617\"},\"group\":null,\"hover_glyph\":null,\"muted_glyph\":{\"id\":\"2619\"},\"nonselection_glyph\":{\"id\":\"2618\"},\"selection_glyph\":{\"id\":\"2622\"},\"view\":{\"id\":\"2621\"}},\"id\":\"2620\",\"type\":\"GlyphRenderer\"},{\"attributes\":{\"margin\":[5,5,5,5],\"name\":\"HSpacer03209\",\"sizing_mode\":\"stretch_width\"},\"id\":\"2673\",\"type\":\"Spacer\"},{\"attributes\":{},\"id\":\"2605\",\"type\":\"ResetTool\"},{\"attributes\":{\"line_color\":\"#30a2da\",\"line_width\":2,\"x\":{\"field\":\"Date\"},\"y\":{\"field\":\"Temperature\"}},\"id\":\"2622\",\"type\":\"Line\"},{\"attributes\":{\"mantissas\":[1,2,5],\"max_interval\":500.0,\"num_minor_ticks\":0},\"id\":\"2639\",\"type\":\"AdaptiveTicker\"},{\"attributes\":{\"base\":60,\"mantissas\":[1,2,5,10,15,20,30],\"max_interval\":1800000.0,\"min_interval\":1000.0,\"num_minor_ticks\":0},\"id\":\"2640\",\"type\":\"AdaptiveTicker\"},{\"attributes\":{\"base\":24,\"mantissas\":[1,2,4,6,8,12],\"max_interval\":43200000.0,\"min_interval\":3600000.0,\"num_minor_ticks\":0},\"id\":\"2641\",\"type\":\"AdaptiveTicker\"},{\"attributes\":{},\"id\":\"2650\",\"type\":\"YearsTicker\"},{\"attributes\":{\"months\":[0,1,2,3,4,5,6,7,8,9,10,11]},\"id\":\"2646\",\"type\":\"MonthsTicker\"},{\"attributes\":{\"days\":[1,15]},\"id\":\"2645\",\"type\":\"DaysTicker\"},{\"attributes\":{\"days\":[1,2,3,4,5,6,7,8,9,10,11,12,13,14,15,16,17,18,19,20,21,22,23,24,25,26,27,28,29,30,31]},\"id\":\"2642\",\"type\":\"DaysTicker\"},{\"attributes\":{\"days\":[1,4,7,10,13,16,19,22,25,28]},\"id\":\"2643\",\"type\":\"DaysTicker\"},{\"attributes\":{\"children\":[{\"id\":\"2580\"},{\"id\":\"2584\"},{\"id\":\"2673\"}],\"margin\":[0,0,0,0],\"name\":\"Row03204\",\"tags\":[\"embedded\"]},\"id\":\"2579\",\"type\":\"Row\"},{\"attributes\":{\"days\":[1,8,15,22]},\"id\":\"2644\",\"type\":\"DaysTicker\"},{\"attributes\":{\"months\":[0,6]},\"id\":\"2649\",\"type\":\"MonthsTicker\"},{\"attributes\":{\"months\":[0,2,4,6,8,10]},\"id\":\"2647\",\"type\":\"MonthsTicker\"}],\"root_ids\":[\"2579\"]},\"title\":\"Bokeh Application\",\"version\":\"2.4.2\"}};\n",
       "    var render_items = [{\"docid\":\"e6a08312-fa21-4f6c-a27a-f7c3eeee6ed8\",\"root_ids\":[\"2579\"],\"roots\":{\"2579\":\"7ab4f08c-2b84-4cf1-acc7-ab117113e7c9\"}}];\n",
       "    root.Bokeh.embed.embed_items_notebook(docs_json, render_items);\n",
       "  }\n",
       "  if (root.Bokeh !== undefined && root.Bokeh.Panel !== undefined) {\n",
       "    embed_document(root);\n",
       "  } else {\n",
       "    var attempts = 0;\n",
       "    var timer = setInterval(function(root) {\n",
       "      if (root.Bokeh !== undefined && root.Bokeh.Panel !== undefined) {\n",
       "        clearInterval(timer);\n",
       "        embed_document(root);\n",
       "      } else if (document.readyState == \"complete\") {\n",
       "        attempts++;\n",
       "        if (attempts > 200) {\n",
       "          clearInterval(timer);\n",
       "          console.log(\"Bokeh: ERROR: Unable to run BokehJS code because BokehJS library is missing\");\n",
       "        }\n",
       "      }\n",
       "    }, 25, root)\n",
       "  }\n",
       "})(window);</script>"
      ],
      "text/plain": [
       ":Curve   [Date]   (Temperature)"
      ]
     },
     "execution_count": 15,
     "metadata": {
      "application/vnd.holoviews_exec.v0+json": {
       "id": "2579"
      }
     },
     "output_type": "execute_result"
    }
   ],
   "source": [
    "# Use hvplot to visualize the time series data\n",
    "df_ng_2 = df_ng[[\"Temperature\"]]\n",
    "display(df_ng_2.head())\n",
    "df_ng_2.hvplot()"
   ]
  },
  {
   "cell_type": "markdown",
   "metadata": {},
   "source": [
    "### Step 4: Create the `df_ng_3` DataFrame from `df_ng` DataFrame, to include Consumption, Storage and Exports variables. Use hvplot to visualize the time series data."
   ]
  },
  {
   "cell_type": "code",
   "execution_count": 16,
   "metadata": {},
   "outputs": [
    {
     "data": {
      "text/html": [
       "<div>\n",
       "<style scoped>\n",
       "    .dataframe tbody tr th:only-of-type {\n",
       "        vertical-align: middle;\n",
       "    }\n",
       "\n",
       "    .dataframe tbody tr th {\n",
       "        vertical-align: top;\n",
       "    }\n",
       "\n",
       "    .dataframe thead th {\n",
       "        text-align: right;\n",
       "    }\n",
       "</style>\n",
       "<table border=\"1\" class=\"dataframe\">\n",
       "  <thead>\n",
       "    <tr style=\"text-align: right;\">\n",
       "      <th></th>\n",
       "      <th>Consumption</th>\n",
       "      <th>Storage</th>\n",
       "      <th>Exports</th>\n",
       "    </tr>\n",
       "    <tr>\n",
       "      <th>Date</th>\n",
       "      <th></th>\n",
       "      <th></th>\n",
       "      <th></th>\n",
       "    </tr>\n",
       "  </thead>\n",
       "  <tbody>\n",
       "    <tr>\n",
       "      <th>2012-01-15</th>\n",
       "      <td>2756180</td>\n",
       "      <td>2910007</td>\n",
       "      <td>6199</td>\n",
       "    </tr>\n",
       "    <tr>\n",
       "      <th>2012-02-15</th>\n",
       "      <td>2500654</td>\n",
       "      <td>2448810</td>\n",
       "      <td>1880</td>\n",
       "    </tr>\n",
       "    <tr>\n",
       "      <th>2012-03-15</th>\n",
       "      <td>2127761</td>\n",
       "      <td>2473130</td>\n",
       "      <td>2615</td>\n",
       "    </tr>\n",
       "    <tr>\n",
       "      <th>2012-04-15</th>\n",
       "      <td>1953071</td>\n",
       "      <td>2611226</td>\n",
       "      <td>18</td>\n",
       "    </tr>\n",
       "    <tr>\n",
       "      <th>2012-05-15</th>\n",
       "      <td>1873835</td>\n",
       "      <td>2887060</td>\n",
       "      <td>2811</td>\n",
       "    </tr>\n",
       "  </tbody>\n",
       "</table>\n",
       "</div>"
      ],
      "text/plain": [
       "            Consumption  Storage  Exports\n",
       "Date                                     \n",
       "2012-01-15      2756180  2910007     6199\n",
       "2012-02-15      2500654  2448810     1880\n",
       "2012-03-15      2127761  2473130     2615\n",
       "2012-04-15      1953071  2611226       18\n",
       "2012-05-15      1873835  2887060     2811"
      ]
     },
     "metadata": {},
     "output_type": "display_data"
    },
    {
     "data": {},
     "metadata": {},
     "output_type": "display_data"
    },
    {
     "data": {
      "application/vnd.holoviews_exec.v0+json": "",
      "text/html": [
       "<div id='2785'>\n",
       "\n",
       "\n",
       "\n",
       "\n",
       "\n",
       "  <div class=\"bk-root\" id=\"304365bf-ebcc-4437-802f-601372e83e16\" data-root-id=\"2785\"></div>\n",
       "</div>\n",
       "<script type=\"application/javascript\">(function(root) {\n",
       "  function embed_document(root) {\n",
       "    var docs_json = {\"c9d2351c-c803-4dd9-936b-af6c2aa48f2a\":{\"defs\":[{\"extends\":null,\"module\":null,\"name\":\"ReactiveHTML1\",\"overrides\":[],\"properties\":[]},{\"extends\":null,\"module\":null,\"name\":\"FlexBox1\",\"overrides\":[],\"properties\":[{\"default\":\"flex-start\",\"kind\":null,\"name\":\"align_content\"},{\"default\":\"flex-start\",\"kind\":null,\"name\":\"align_items\"},{\"default\":\"row\",\"kind\":null,\"name\":\"flex_direction\"},{\"default\":\"wrap\",\"kind\":null,\"name\":\"flex_wrap\"},{\"default\":\"flex-start\",\"kind\":null,\"name\":\"justify_content\"}]},{\"extends\":null,\"module\":null,\"name\":\"TemplateActions1\",\"overrides\":[],\"properties\":[{\"default\":0,\"kind\":null,\"name\":\"open_modal\"},{\"default\":0,\"kind\":null,\"name\":\"close_modal\"}]},{\"extends\":null,\"module\":null,\"name\":\"MaterialTemplateActions1\",\"overrides\":[],\"properties\":[{\"default\":0,\"kind\":null,\"name\":\"open_modal\"},{\"default\":0,\"kind\":null,\"name\":\"close_modal\"}]}],\"roots\":{\"references\":[{\"attributes\":{\"coordinates\":null,\"data_source\":{\"id\":\"2861\"},\"glyph\":{\"id\":\"2864\"},\"group\":null,\"hover_glyph\":null,\"muted_glyph\":{\"id\":\"2866\"},\"nonselection_glyph\":{\"id\":\"2865\"},\"selection_glyph\":{\"id\":\"2894\"},\"view\":{\"id\":\"2868\"}},\"id\":\"2867\",\"type\":\"GlyphRenderer\"},{\"attributes\":{\"months\":[0,1,2,3,4,5,6,7,8,9,10,11]},\"id\":\"2853\",\"type\":\"MonthsTicker\"},{\"attributes\":{\"line_color\":\"#fc4f30\",\"line_width\":2,\"x\":{\"field\":\"Date\"},\"y\":{\"field\":\"value\"}},\"id\":\"2894\",\"type\":\"Line\"},{\"attributes\":{\"days\":[1,15]},\"id\":\"2852\",\"type\":\"DaysTicker\"},{\"attributes\":{\"days\":[1,4,7,10,13,16,19,22,25,28]},\"id\":\"2850\",\"type\":\"DaysTicker\"},{\"attributes\":{\"source\":{\"id\":\"2861\"}},\"id\":\"2868\",\"type\":\"CDSView\"},{\"attributes\":{},\"id\":\"2826\",\"type\":\"BasicTickFormatter\"},{\"attributes\":{},\"id\":\"2857\",\"type\":\"YearsTicker\"},{\"attributes\":{\"days\":[1,8,15,22]},\"id\":\"2851\",\"type\":\"DaysTicker\"},{\"attributes\":{},\"id\":\"2827\",\"type\":\"AllLabels\"},{\"attributes\":{\"label\":{\"value\":\"Storage\"},\"renderers\":[{\"id\":\"2867\"}]},\"id\":\"2893\",\"type\":\"LegendItem\"},{\"attributes\":{\"months\":[0,6]},\"id\":\"2856\",\"type\":\"MonthsTicker\"},{\"attributes\":{\"months\":[0,2,4,6,8,10]},\"id\":\"2854\",\"type\":\"MonthsTicker\"},{\"attributes\":{\"line_color\":\"#e5ae38\",\"line_width\":2,\"x\":{\"field\":\"Date\"},\"y\":{\"field\":\"value\"}},\"id\":\"2898\",\"type\":\"Line\"},{\"attributes\":{\"end\":4413994.6,\"reset_end\":4413994.6,\"reset_start\":-401264.60000000003,\"start\":-401264.60000000003,\"tags\":[[[\"value\",\"value\",null]]]},\"id\":\"2788\",\"type\":\"Range1d\"},{\"attributes\":{\"months\":[0,4,8]},\"id\":\"2855\",\"type\":\"MonthsTicker\"},{\"attributes\":{\"line_alpha\":0.1,\"line_color\":\"#30a2da\",\"line_width\":2,\"x\":{\"field\":\"Date\"},\"y\":{\"field\":\"value\"}},\"id\":\"2832\",\"type\":\"Line\"},{\"attributes\":{\"coordinates\":null,\"data_source\":{\"id\":\"2828\"},\"glyph\":{\"id\":\"2831\"},\"group\":null,\"hover_glyph\":null,\"muted_glyph\":{\"id\":\"2833\"},\"nonselection_glyph\":{\"id\":\"2832\"},\"selection_glyph\":{\"id\":\"2860\"},\"view\":{\"id\":\"2835\"}},\"id\":\"2834\",\"type\":\"GlyphRenderer\"},{\"attributes\":{},\"id\":\"2797\",\"type\":\"LinearScale\"},{\"attributes\":{\"line_alpha\":0.2,\"line_color\":\"#e5ae38\",\"line_width\":2,\"x\":{\"field\":\"Date\"},\"y\":{\"field\":\"value\"}},\"id\":\"2900\",\"type\":\"Line\"},{\"attributes\":{\"end\":1642204800000.0,\"reset_end\":1642204800000.0,\"reset_start\":1326585600000.0,\"start\":1326585600000.0,\"tags\":[[[\"Date\",\"Date\",null]]]},\"id\":\"2787\",\"type\":\"Range1d\"},{\"attributes\":{\"label\":{\"value\":\"Consumption\"},\"renderers\":[{\"id\":\"2834\"}]},\"id\":\"2859\",\"type\":\"LegendItem\"},{\"attributes\":{\"num_minor_ticks\":5,\"tickers\":[{\"id\":\"2846\"},{\"id\":\"2847\"},{\"id\":\"2848\"},{\"id\":\"2849\"},{\"id\":\"2850\"},{\"id\":\"2851\"},{\"id\":\"2852\"},{\"id\":\"2853\"},{\"id\":\"2854\"},{\"id\":\"2855\"},{\"id\":\"2856\"},{\"id\":\"2857\"}]},\"id\":\"2802\",\"type\":\"DatetimeTicker\"},{\"attributes\":{\"below\":[{\"id\":\"2801\"}],\"center\":[{\"id\":\"2804\"},{\"id\":\"2808\"}],\"height\":300,\"left\":[{\"id\":\"2805\"}],\"margin\":[5,5,5,5],\"min_border_bottom\":10,\"min_border_left\":10,\"min_border_right\":10,\"min_border_top\":10,\"renderers\":[{\"id\":\"2834\"},{\"id\":\"2867\"},{\"id\":\"2901\"}],\"right\":[{\"id\":\"2858\"}],\"sizing_mode\":\"fixed\",\"title\":{\"id\":\"2793\"},\"toolbar\":{\"id\":\"2815\"},\"width\":700,\"x_range\":{\"id\":\"2787\"},\"x_scale\":{\"id\":\"2797\"},\"y_range\":{\"id\":\"2788\"},\"y_scale\":{\"id\":\"2799\"}},\"id\":\"2792\",\"subtype\":\"Figure\",\"type\":\"Plot\"},{\"attributes\":{\"axis_label\":\"Date\",\"coordinates\":null,\"formatter\":{\"id\":\"2823\"},\"group\":null,\"major_label_policy\":{\"id\":\"2824\"},\"ticker\":{\"id\":\"2802\"}},\"id\":\"2801\",\"type\":\"DatetimeAxis\"},{\"attributes\":{\"line_alpha\":0.2,\"line_color\":\"#30a2da\",\"line_width\":2,\"x\":{\"field\":\"Date\"},\"y\":{\"field\":\"value\"}},\"id\":\"2833\",\"type\":\"Line\"},{\"attributes\":{\"data\":{\"Date\":{\"__ndarray__\":\"AACAnepNc0IAAMDv5FdzQgAAgHY6YXNCAADAyDRrc0IAAEC13HRzQgAAgAfXfnNCAAAA9H6Ic0IAAEBGeZJzQgAAgJhznHNCAAAAhRumc0IAAEDXFbBzQgAAwMO9uXNCAAAAFrjDc0IAAEBoss1zQgAAQIm11nNCAACA26/gc0IAAADIV+pzQgAAQBpS9HNCAADABvr9c0IAAABZ9Ad0QgAAQKvuEXRCAADAl5YbdEIAAADqkCV0QgAAgNY4L3RCAADAKDM5dEIAAAB7LUN0QgAAAJwwTHRCAABA7ipWdEIAAMDa0l90QgAAAC3NaXRCAACAGXVzdEIAAMBrb310QgAAAL5ph3RCAACAqhGRdEIAAMD8C5t0QgAAQOmzpHRCAACAO66udEIAAMCNqLh0QgAAwK6rwXRCAAAAAabLdEIAAIDtTdV0QgAAwD9I33RCAABALPDodEIAAIB+6vJ0QgAAwNDk/HRCAABAvYwGdUIAAIAPhxB1QgAAAPwuGnVCAABATikkdUIAAICgIy51QgAAQCd5N3VCAACAeXNBdUIAAABmG0t1QgAAQLgVVXVCAADApL1edUIAAAD3t2h1QgAAQEmycnVCAADANVp8dUIAAACIVIZ1QgAAgHT8j3VCAADAxvaZdUIAAAAZ8aN1QgAAADr0rHVCAABAjO62dUIAAMB4lsB1QgAAAMuQynVCAACAtzjUdUIAAMAJM951QgAAAFwt6HVCAACASNXxdUIAAMCaz/t1QgAAQId3BXZCAACA2XEPdkIAAMArbBl2QgAAwExvInZCAAAAn2ksdkIAAICLETZ2QgAAwN0LQHZCAABAyrNJdkIAAIAcrlN2QgAAwG6oXXZCAABAW1BndkIAAICtSnF2QgAAAJryenZCAABA7OyEdkIAAIA+5452QgAAgF/ql3ZCAADAseShdkIAAECejKt2QgAAgPCGtXZCAAAA3S6/dkIAAEAvKcl2QgAAgIEj03ZCAAAAbsvcdkIAAEDAxeZ2QgAAwKxt8HZCAAAA/2f6dkIAAEBRYgR3QgAAANi3DXdCAABAKrIXd0IAAMAWWiF3QgAAAGlUK3dCAACAVfw0d0IAAMCn9j53QgAAAPrwSHdCAACA5phSd0IAAMA4k1x3QgAAQCU7ZndCAACAdzVwd0IAAMDJL3p3QgAAwOoyg3dCAAAAPS2Nd0IAAIAp1ZZ3QgAAwHvPoHdCAABAaHeqd0IAAIC6cbR3QgAAwAxsvndCAABA+RPId0IAAIBLDtJ3QgAAADi223dCAABAirDld0I=\",\"dtype\":\"float64\",\"order\":\"little\",\"shape\":[121]},\"Variable\":[\"Storage\",\"Storage\",\"Storage\",\"Storage\",\"Storage\",\"Storage\",\"Storage\",\"Storage\",\"Storage\",\"Storage\",\"Storage\",\"Storage\",\"Storage\",\"Storage\",\"Storage\",\"Storage\",\"Storage\",\"Storage\",\"Storage\",\"Storage\",\"Storage\",\"Storage\",\"Storage\",\"Storage\",\"Storage\",\"Storage\",\"Storage\",\"Storage\",\"Storage\",\"Storage\",\"Storage\",\"Storage\",\"Storage\",\"Storage\",\"Storage\",\"Storage\",\"Storage\",\"Storage\",\"Storage\",\"Storage\",\"Storage\",\"Storage\",\"Storage\",\"Storage\",\"Storage\",\"Storage\",\"Storage\",\"Storage\",\"Storage\",\"Storage\",\"Storage\",\"Storage\",\"Storage\",\"Storage\",\"Storage\",\"Storage\",\"Storage\",\"Storage\",\"Storage\",\"Storage\",\"Storage\",\"Storage\",\"Storage\",\"Storage\",\"Storage\",\"Storage\",\"Storage\",\"Storage\",\"Storage\",\"Storage\",\"Storage\",\"Storage\",\"Storage\",\"Storage\",\"Storage\",\"Storage\",\"Storage\",\"Storage\",\"Storage\",\"Storage\",\"Storage\",\"Storage\",\"Storage\",\"Storage\",\"Storage\",\"Storage\",\"Storage\",\"Storage\",\"Storage\",\"Storage\",\"Storage\",\"Storage\",\"Storage\",\"Storage\",\"Storage\",\"Storage\",\"Storage\",\"Storage\",\"Storage\",\"Storage\",\"Storage\",\"Storage\",\"Storage\",\"Storage\",\"Storage\",\"Storage\",\"Storage\",\"Storage\",\"Storage\",\"Storage\",\"Storage\",\"Storage\",\"Storage\",\"Storage\",\"Storage\",\"Storage\",\"Storage\",\"Storage\",\"Storage\",\"Storage\",\"Storage\"],\"value\":[2910007,2448810,2473130,2611226,2887060,3115447,3245201,3406134,3693053,3929250,3799215,3412910,2699227,2099354,1719845,1855188,2269564,2642648,2936860,3212006,3564505,3816996,3605337,2889892,1924922,1199987,857311,1066380,1547944,2005475,2399974,2768398,3187016,3587270,3426869,3141222,2407122,1665549,1471476,1793086,2287238,2646533,2924427,3241632,3614081,3942279,3926822,3666632,2938089,2534293,2486323,2645560,2966266,3186033,3318139,3441325,3705161,4012723,3976581,3296944,2622159,2337331,2062505,2291250,2626507,2906809,3054151,3249896,3567228,3816497,3709263,3032602,2140557,1672663,1390280,1426800,1847454,2195227,2381269,2616841,2950368,3236255,3030079,2708318,1993997,1426210,1184891,1559402,2031031,2460748,2714197,2997810,3414939,3762043,3610029,3188243,2616176,2080883,2029360,2332493,2777585,3133096,3293550,3522216,3839836,3928504,3931616,3340981,2634968,1858226,1800646,1974331,2388060,2582857,2752440,2915598,3304886,3664591,3531966,3207825,2213809]},\"selected\":{\"id\":\"2862\"},\"selection_policy\":{\"id\":\"2878\"}},\"id\":\"2861\",\"type\":\"ColumnDataSource\"},{\"attributes\":{\"line_color\":\"#e5ae38\",\"line_width\":2,\"x\":{\"field\":\"Date\"},\"y\":{\"field\":\"value\"}},\"id\":\"2930\",\"type\":\"Line\"},{\"attributes\":{\"click_policy\":\"mute\",\"coordinates\":null,\"group\":null,\"items\":[{\"id\":\"2859\"},{\"id\":\"2893\"},{\"id\":\"2929\"}],\"location\":[0,0],\"title\":\"Variable\"},\"id\":\"2858\",\"type\":\"Legend\"},{\"attributes\":{\"line_alpha\":0.1,\"line_color\":\"#e5ae38\",\"line_width\":2,\"x\":{\"field\":\"Date\"},\"y\":{\"field\":\"value\"}},\"id\":\"2899\",\"type\":\"Line\"},{\"attributes\":{\"source\":{\"id\":\"2828\"}},\"id\":\"2835\",\"type\":\"CDSView\"},{\"attributes\":{\"callback\":null,\"formatters\":{\"@{Date}\":\"datetime\"},\"renderers\":[{\"id\":\"2834\"},{\"id\":\"2867\"},{\"id\":\"2901\"}],\"tags\":[\"hv_created\"],\"tooltips\":[[\"Variable\",\"@{Variable}\"],[\"Date\",\"@{Date}{%F %T}\"],[\"value\",\"@{value}\"]]},\"id\":\"2789\",\"type\":\"HoverTool\"},{\"attributes\":{\"coordinates\":null,\"data_source\":{\"id\":\"2895\"},\"glyph\":{\"id\":\"2898\"},\"group\":null,\"hover_glyph\":null,\"muted_glyph\":{\"id\":\"2900\"},\"nonselection_glyph\":{\"id\":\"2899\"},\"selection_glyph\":{\"id\":\"2930\"},\"view\":{\"id\":\"2902\"}},\"id\":\"2901\",\"type\":\"GlyphRenderer\"},{\"attributes\":{},\"id\":\"2896\",\"type\":\"Selection\"},{\"attributes\":{\"axis\":{\"id\":\"2801\"},\"coordinates\":null,\"grid_line_color\":null,\"group\":null,\"ticker\":null},\"id\":\"2804\",\"type\":\"Grid\"},{\"attributes\":{\"source\":{\"id\":\"2895\"}},\"id\":\"2902\",\"type\":\"CDSView\"},{\"attributes\":{\"coordinates\":null,\"group\":null,\"text_color\":\"black\",\"text_font_size\":\"12pt\"},\"id\":\"2793\",\"type\":\"Title\"},{\"attributes\":{},\"id\":\"2799\",\"type\":\"LinearScale\"},{\"attributes\":{\"label\":{\"value\":\"Exports\"},\"renderers\":[{\"id\":\"2901\"}]},\"id\":\"2929\",\"type\":\"LegendItem\"},{\"attributes\":{\"axis_label\":\"\",\"coordinates\":null,\"formatter\":{\"id\":\"2826\"},\"group\":null,\"major_label_policy\":{\"id\":\"2827\"},\"ticker\":{\"id\":\"2806\"}},\"id\":\"2805\",\"type\":\"LinearAxis\"},{\"attributes\":{},\"id\":\"2806\",\"type\":\"BasicTicker\"},{\"attributes\":{},\"id\":\"2914\",\"type\":\"UnionRenderers\"},{\"attributes\":{},\"id\":\"2810\",\"type\":\"PanTool\"},{\"attributes\":{},\"id\":\"2811\",\"type\":\"WheelZoomTool\"},{\"attributes\":{},\"id\":\"2824\",\"type\":\"AllLabels\"},{\"attributes\":{\"axis\":{\"id\":\"2805\"},\"coordinates\":null,\"dimension\":1,\"grid_line_color\":null,\"group\":null,\"ticker\":null},\"id\":\"2808\",\"type\":\"Grid\"},{\"attributes\":{\"margin\":[5,5,5,5],\"name\":\"HSpacer03432\",\"sizing_mode\":\"stretch_width\"},\"id\":\"2786\",\"type\":\"Spacer\"},{\"attributes\":{},\"id\":\"2809\",\"type\":\"SaveTool\"},{\"attributes\":{\"overlay\":{\"id\":\"2814\"}},\"id\":\"2812\",\"type\":\"BoxZoomTool\"},{\"attributes\":{},\"id\":\"2813\",\"type\":\"ResetTool\"},{\"attributes\":{\"data\":{\"Date\":{\"__ndarray__\":\"AACAnepNc0IAAMDv5FdzQgAAgHY6YXNCAADAyDRrc0IAAEC13HRzQgAAgAfXfnNCAAAA9H6Ic0IAAEBGeZJzQgAAgJhznHNCAAAAhRumc0IAAEDXFbBzQgAAwMO9uXNCAAAAFrjDc0IAAEBoss1zQgAAQIm11nNCAACA26/gc0IAAADIV+pzQgAAQBpS9HNCAADABvr9c0IAAABZ9Ad0QgAAQKvuEXRCAADAl5YbdEIAAADqkCV0QgAAgNY4L3RCAADAKDM5dEIAAAB7LUN0QgAAAJwwTHRCAABA7ipWdEIAAMDa0l90QgAAAC3NaXRCAACAGXVzdEIAAMBrb310QgAAAL5ph3RCAACAqhGRdEIAAMD8C5t0QgAAQOmzpHRCAACAO66udEIAAMCNqLh0QgAAwK6rwXRCAAAAAabLdEIAAIDtTdV0QgAAwD9I33RCAABALPDodEIAAIB+6vJ0QgAAwNDk/HRCAABAvYwGdUIAAIAPhxB1QgAAAPwuGnVCAABATikkdUIAAICgIy51QgAAQCd5N3VCAACAeXNBdUIAAABmG0t1QgAAQLgVVXVCAADApL1edUIAAAD3t2h1QgAAQEmycnVCAADANVp8dUIAAACIVIZ1QgAAgHT8j3VCAADAxvaZdUIAAAAZ8aN1QgAAADr0rHVCAABAjO62dUIAAMB4lsB1QgAAAMuQynVCAACAtzjUdUIAAMAJM951QgAAAFwt6HVCAACASNXxdUIAAMCaz/t1QgAAQId3BXZCAACA2XEPdkIAAMArbBl2QgAAwExvInZCAAAAn2ksdkIAAICLETZ2QgAAwN0LQHZCAABAyrNJdkIAAIAcrlN2QgAAwG6oXXZCAABAW1BndkIAAICtSnF2QgAAAJryenZCAABA7OyEdkIAAIA+5452QgAAgF/ql3ZCAADAseShdkIAAECejKt2QgAAgPCGtXZCAAAA3S6/dkIAAEAvKcl2QgAAgIEj03ZCAAAAbsvcdkIAAEDAxeZ2QgAAwKxt8HZCAAAA/2f6dkIAAEBRYgR3QgAAANi3DXdCAABAKrIXd0IAAMAWWiF3QgAAAGlUK3dCAACAVfw0d0IAAMCn9j53QgAAAPrwSHdCAACA5phSd0IAAMA4k1x3QgAAQCU7ZndCAACAdzVwd0IAAMDJL3p3QgAAwOoyg3dCAAAAPS2Nd0IAAIAp1ZZ3QgAAwHvPoHdCAABAaHeqd0IAAIC6cbR3QgAAwAxsvndCAABA+RPId0IAAIBLDtJ3QgAAADi223dCAABAirDld0I=\",\"dtype\":\"float64\",\"order\":\"little\",\"shape\":[121]},\"Variable\":[\"Consumption\",\"Consumption\",\"Consumption\",\"Consumption\",\"Consumption\",\"Consumption\",\"Consumption\",\"Consumption\",\"Consumption\",\"Consumption\",\"Consumption\",\"Consumption\",\"Consumption\",\"Consumption\",\"Consumption\",\"Consumption\",\"Consumption\",\"Consumption\",\"Consumption\",\"Consumption\",\"Consumption\",\"Consumption\",\"Consumption\",\"Consumption\",\"Consumption\",\"Consumption\",\"Consumption\",\"Consumption\",\"Consumption\",\"Consumption\",\"Consumption\",\"Consumption\",\"Consumption\",\"Consumption\",\"Consumption\",\"Consumption\",\"Consumption\",\"Consumption\",\"Consumption\",\"Consumption\",\"Consumption\",\"Consumption\",\"Consumption\",\"Consumption\",\"Consumption\",\"Consumption\",\"Consumption\",\"Consumption\",\"Consumption\",\"Consumption\",\"Consumption\",\"Consumption\",\"Consumption\",\"Consumption\",\"Consumption\",\"Consumption\",\"Consumption\",\"Consumption\",\"Consumption\",\"Consumption\",\"Consumption\",\"Consumption\",\"Consumption\",\"Consumption\",\"Consumption\",\"Consumption\",\"Consumption\",\"Consumption\",\"Consumption\",\"Consumption\",\"Consumption\",\"Consumption\",\"Consumption\",\"Consumption\",\"Consumption\",\"Consumption\",\"Consumption\",\"Consumption\",\"Consumption\",\"Consumption\",\"Consumption\",\"Consumption\",\"Consumption\",\"Consumption\",\"Consumption\",\"Consumption\",\"Consumption\",\"Consumption\",\"Consumption\",\"Consumption\",\"Consumption\",\"Consumption\",\"Consumption\",\"Consumption\",\"Consumption\",\"Consumption\",\"Consumption\",\"Consumption\",\"Consumption\",\"Consumption\",\"Consumption\",\"Consumption\",\"Consumption\",\"Consumption\",\"Consumption\",\"Consumption\",\"Consumption\",\"Consumption\",\"Consumption\",\"Consumption\",\"Consumption\",\"Consumption\",\"Consumption\",\"Consumption\",\"Consumption\",\"Consumption\",\"Consumption\",\"Consumption\",\"Consumption\",\"Consumption\",\"Consumption\"],\"value\":[2756180,2500654,2127761,1953071,1873835,1868356,2069773,2008815,1807208,1901084,2167841,2503907,2878785,2567155,2521108,1967458,1752469,1742917,1926330,1927379,1766973,1866762,2316909,2920826,3204129,2741240,2557890,1961678,1810222,1745351,1881017,1933061,1809291,1912810,2357521,2679165,3114982,2925172,2591329,2007922,1858149,1899906,2067714,2052728,1901337,1987310,2249140,2588168,3091695,2652260,2356298,2083848,1965799,2000656,2186616,2208375,1947752,1925203,2159445,2866273,2913823,2340217,2523331,1932042,1892010,1910441,2141595,2093773,1920466,2031510,2357258,3086015,3340935,2710719,2796708,2350481,2055019,2063144,2350719,2313836,2156063,2285854,2715942,2999510,3424302,3019120,2927812,2212386,2133985,2119341,2393904,2433924,2206252,2306544,2783754,3170717,3299777,3041481,2707481,2240544,2067048,2130675,2489307,2401321,2171842,2320028,2434877,3167833,3292364,3041816,2615634,2238454,2093777,2214929,2387996,2410935,2110187,2237715,2659971,2980105,3591889]},\"selected\":{\"id\":\"2829\"},\"selection_policy\":{\"id\":\"2843\"}},\"id\":\"2828\",\"type\":\"ColumnDataSource\"},{\"attributes\":{\"bottom_units\":\"screen\",\"coordinates\":null,\"fill_alpha\":0.5,\"fill_color\":\"lightgrey\",\"group\":null,\"left_units\":\"screen\",\"level\":\"overlay\",\"line_alpha\":1.0,\"line_color\":\"black\",\"line_dash\":[4,4],\"line_width\":2,\"right_units\":\"screen\",\"syncable\":false,\"top_units\":\"screen\"},\"id\":\"2814\",\"type\":\"BoxAnnotation\"},{\"attributes\":{},\"id\":\"2843\",\"type\":\"UnionRenderers\"},{\"attributes\":{\"children\":[{\"id\":\"2786\"},{\"id\":\"2792\"},{\"id\":\"3165\"}],\"margin\":[0,0,0,0],\"name\":\"Row03428\",\"tags\":[\"embedded\"]},\"id\":\"2785\",\"type\":\"Row\"},{\"attributes\":{},\"id\":\"2878\",\"type\":\"UnionRenderers\"},{\"attributes\":{},\"id\":\"2829\",\"type\":\"Selection\"},{\"attributes\":{\"line_color\":\"#30a2da\",\"line_width\":2,\"x\":{\"field\":\"Date\"},\"y\":{\"field\":\"value\"}},\"id\":\"2831\",\"type\":\"Line\"},{\"attributes\":{\"data\":{\"Date\":{\"__ndarray__\":\"AACAnepNc0IAAMDv5FdzQgAAgHY6YXNCAADAyDRrc0IAAEC13HRzQgAAgAfXfnNCAAAA9H6Ic0IAAEBGeZJzQgAAgJhznHNCAAAAhRumc0IAAEDXFbBzQgAAwMO9uXNCAAAAFrjDc0IAAEBoss1zQgAAQIm11nNCAACA26/gc0IAAADIV+pzQgAAQBpS9HNCAADABvr9c0IAAABZ9Ad0QgAAQKvuEXRCAADAl5YbdEIAAADqkCV0QgAAgNY4L3RCAADAKDM5dEIAAAB7LUN0QgAAAJwwTHRCAABA7ipWdEIAAMDa0l90QgAAAC3NaXRCAACAGXVzdEIAAMBrb310QgAAAL5ph3RCAACAqhGRdEIAAMD8C5t0QgAAQOmzpHRCAACAO66udEIAAMCNqLh0QgAAwK6rwXRCAAAAAabLdEIAAIDtTdV0QgAAwD9I33RCAABALPDodEIAAIB+6vJ0QgAAwNDk/HRCAABAvYwGdUIAAIAPhxB1QgAAAPwuGnVCAABATikkdUIAAICgIy51QgAAQCd5N3VCAACAeXNBdUIAAABmG0t1QgAAQLgVVXVCAADApL1edUIAAAD3t2h1QgAAQEmycnVCAADANVp8dUIAAACIVIZ1QgAAgHT8j3VCAADAxvaZdUIAAAAZ8aN1QgAAADr0rHVCAABAjO62dUIAAMB4lsB1QgAAAMuQynVCAACAtzjUdUIAAMAJM951QgAAAFwt6HVCAACASNXxdUIAAMCaz/t1QgAAQId3BXZCAACA2XEPdkIAAMArbBl2QgAAwExvInZCAAAAn2ksdkIAAICLETZ2QgAAwN0LQHZCAABAyrNJdkIAAIAcrlN2QgAAwG6oXXZCAABAW1BndkIAAICtSnF2QgAAAJryenZCAABA7OyEdkIAAIA+5452QgAAgF/ql3ZCAADAseShdkIAAECejKt2QgAAgPCGtXZCAAAA3S6/dkIAAEAvKcl2QgAAgIEj03ZCAAAAbsvcdkIAAEDAxeZ2QgAAwKxt8HZCAAAA/2f6dkIAAEBRYgR3QgAAANi3DXdCAABAKrIXd0IAAMAWWiF3QgAAAGlUK3dCAACAVfw0d0IAAMCn9j53QgAAAPrwSHdCAACA5phSd0IAAMA4k1x3QgAAQCU7ZndCAACAdzVwd0IAAMDJL3p3QgAAwOoyg3dCAAAAPS2Nd0IAAIAp1ZZ3QgAAwHvPoHdCAABAaHeqd0IAAIC6cbR3QgAAwAxsvndCAABA+RPId0IAAIBLDtJ3QgAAADi223dCAABAirDld0I=\",\"dtype\":\"float64\",\"order\":\"little\",\"shape\":[121]},\"Variable\":[\"Exports\",\"Exports\",\"Exports\",\"Exports\",\"Exports\",\"Exports\",\"Exports\",\"Exports\",\"Exports\",\"Exports\",\"Exports\",\"Exports\",\"Exports\",\"Exports\",\"Exports\",\"Exports\",\"Exports\",\"Exports\",\"Exports\",\"Exports\",\"Exports\",\"Exports\",\"Exports\",\"Exports\",\"Exports\",\"Exports\",\"Exports\",\"Exports\",\"Exports\",\"Exports\",\"Exports\",\"Exports\",\"Exports\",\"Exports\",\"Exports\",\"Exports\",\"Exports\",\"Exports\",\"Exports\",\"Exports\",\"Exports\",\"Exports\",\"Exports\",\"Exports\",\"Exports\",\"Exports\",\"Exports\",\"Exports\",\"Exports\",\"Exports\",\"Exports\",\"Exports\",\"Exports\",\"Exports\",\"Exports\",\"Exports\",\"Exports\",\"Exports\",\"Exports\",\"Exports\",\"Exports\",\"Exports\",\"Exports\",\"Exports\",\"Exports\",\"Exports\",\"Exports\",\"Exports\",\"Exports\",\"Exports\",\"Exports\",\"Exports\",\"Exports\",\"Exports\",\"Exports\",\"Exports\",\"Exports\",\"Exports\",\"Exports\",\"Exports\",\"Exports\",\"Exports\",\"Exports\",\"Exports\",\"Exports\",\"Exports\",\"Exports\",\"Exports\",\"Exports\",\"Exports\",\"Exports\",\"Exports\",\"Exports\",\"Exports\",\"Exports\",\"Exports\",\"Exports\",\"Exports\",\"Exports\",\"Exports\",\"Exports\",\"Exports\",\"Exports\",\"Exports\",\"Exports\",\"Exports\",\"Exports\",\"Exports\",\"Exports\",\"Exports\",\"Exports\",\"Exports\",\"Exports\",\"Exports\",\"Exports\",\"Exports\",\"Exports\",\"Exports\",\"Exports\",\"Exports\",\"Exports\"],\"value\":[6199,1880,2615,18,2811,2399,12,2455,12,4371,7,5520,13,22,23,21,15,12,8,9,12,16,2747,26,29,2694,28,25,1907,17,2827,2863,2904,2904,27,28,2832,2748,23,24,2769,2774,2771,2763,2767,2769,2969,3172,26,3309,10078,10036,9874,16445,15739,26768,16764,3000,32976,41825,51342,52042,43553,50669,60782,52462,53592,45468,54733,80195,80100,82604,72463,73684,91542,85684,94797,73535,98240,91526,81381,89886,107585,122795,126957,102866,130814,127102,144913,141956,156865,138578,160274,177966,190610,220646,250305,225786,244269,210466,182438,109002,96200,112462,151128,222963,280682,304263,305196,208394,321023,306818,314922,271368,300143,298262,284813,298119,306397,345363,353791]},\"selected\":{\"id\":\"2896\"},\"selection_policy\":{\"id\":\"2914\"}},\"id\":\"2895\",\"type\":\"ColumnDataSource\"},{\"attributes\":{\"tools\":[{\"id\":\"2789\"},{\"id\":\"2809\"},{\"id\":\"2810\"},{\"id\":\"2811\"},{\"id\":\"2812\"},{\"id\":\"2813\"}]},\"id\":\"2815\",\"type\":\"Toolbar\"},{\"attributes\":{\"line_alpha\":0.1,\"line_color\":\"#fc4f30\",\"line_width\":2,\"x\":{\"field\":\"Date\"},\"y\":{\"field\":\"value\"}},\"id\":\"2865\",\"type\":\"Line\"},{\"attributes\":{\"line_color\":\"#30a2da\",\"line_width\":2,\"x\":{\"field\":\"Date\"},\"y\":{\"field\":\"value\"}},\"id\":\"2860\",\"type\":\"Line\"},{\"attributes\":{},\"id\":\"2823\",\"type\":\"DatetimeTickFormatter\"},{\"attributes\":{},\"id\":\"2862\",\"type\":\"Selection\"},{\"attributes\":{\"line_color\":\"#fc4f30\",\"line_width\":2,\"x\":{\"field\":\"Date\"},\"y\":{\"field\":\"value\"}},\"id\":\"2864\",\"type\":\"Line\"},{\"attributes\":{\"line_alpha\":0.2,\"line_color\":\"#fc4f30\",\"line_width\":2,\"x\":{\"field\":\"Date\"},\"y\":{\"field\":\"value\"}},\"id\":\"2866\",\"type\":\"Line\"},{\"attributes\":{\"mantissas\":[1,2,5],\"max_interval\":500.0,\"num_minor_ticks\":0},\"id\":\"2846\",\"type\":\"AdaptiveTicker\"},{\"attributes\":{\"margin\":[5,5,5,5],\"name\":\"HSpacer03433\",\"sizing_mode\":\"stretch_width\"},\"id\":\"3165\",\"type\":\"Spacer\"},{\"attributes\":{\"base\":60,\"mantissas\":[1,2,5,10,15,20,30],\"max_interval\":1800000.0,\"min_interval\":1000.0,\"num_minor_ticks\":0},\"id\":\"2847\",\"type\":\"AdaptiveTicker\"},{\"attributes\":{\"base\":24,\"mantissas\":[1,2,4,6,8,12],\"max_interval\":43200000.0,\"min_interval\":3600000.0,\"num_minor_ticks\":0},\"id\":\"2848\",\"type\":\"AdaptiveTicker\"},{\"attributes\":{\"days\":[1,2,3,4,5,6,7,8,9,10,11,12,13,14,15,16,17,18,19,20,21,22,23,24,25,26,27,28,29,30,31]},\"id\":\"2849\",\"type\":\"DaysTicker\"}],\"root_ids\":[\"2785\"]},\"title\":\"Bokeh Application\",\"version\":\"2.4.2\"}};\n",
       "    var render_items = [{\"docid\":\"c9d2351c-c803-4dd9-936b-af6c2aa48f2a\",\"root_ids\":[\"2785\"],\"roots\":{\"2785\":\"304365bf-ebcc-4437-802f-601372e83e16\"}}];\n",
       "    root.Bokeh.embed.embed_items_notebook(docs_json, render_items);\n",
       "  }\n",
       "  if (root.Bokeh !== undefined && root.Bokeh.Panel !== undefined) {\n",
       "    embed_document(root);\n",
       "  } else {\n",
       "    var attempts = 0;\n",
       "    var timer = setInterval(function(root) {\n",
       "      if (root.Bokeh !== undefined && root.Bokeh.Panel !== undefined) {\n",
       "        clearInterval(timer);\n",
       "        embed_document(root);\n",
       "      } else if (document.readyState == \"complete\") {\n",
       "        attempts++;\n",
       "        if (attempts > 200) {\n",
       "          clearInterval(timer);\n",
       "          console.log(\"Bokeh: ERROR: Unable to run BokehJS code because BokehJS library is missing\");\n",
       "        }\n",
       "      }\n",
       "    }, 25, root)\n",
       "  }\n",
       "})(window);</script>"
      ],
      "text/plain": [
       ":NdOverlay   [Variable]\n",
       "   :Curve   [Date]   (value)"
      ]
     },
     "execution_count": 16,
     "metadata": {
      "application/vnd.holoviews_exec.v0+json": {
       "id": "2785"
      }
     },
     "output_type": "execute_result"
    }
   ],
   "source": [
    "# Use hvplot to visualize the time series data\n",
    "df_ng_3 = df_ng[[\"Consumption\", \"Storage\", \"Exports\"]]\n",
    "display(df_ng_3.head())\n",
    "df_ng_3.hvplot()"
   ]
  },
  {
   "cell_type": "markdown",
   "metadata": {},
   "source": [
    "## Correlations and HeatMap"
   ]
  },
  {
   "cell_type": "markdown",
   "metadata": {},
   "source": [
    "### Step 1: Use the Pandas `corr` function to compute the correlations among natural gas price, ambient temperature, natural gas consumption, storage and LNG exports."
   ]
  },
  {
   "cell_type": "code",
   "execution_count": 17,
   "metadata": {},
   "outputs": [
    {
     "data": {
      "text/html": [
       "<div>\n",
       "<style scoped>\n",
       "    .dataframe tbody tr th:only-of-type {\n",
       "        vertical-align: middle;\n",
       "    }\n",
       "\n",
       "    .dataframe tbody tr th {\n",
       "        vertical-align: top;\n",
       "    }\n",
       "\n",
       "    .dataframe thead th {\n",
       "        text-align: right;\n",
       "    }\n",
       "</style>\n",
       "<table border=\"1\" class=\"dataframe\">\n",
       "  <thead>\n",
       "    <tr style=\"text-align: right;\">\n",
       "      <th></th>\n",
       "      <th>Price</th>\n",
       "      <th>Temperature</th>\n",
       "      <th>Consumption</th>\n",
       "      <th>Storage</th>\n",
       "      <th>Exports</th>\n",
       "    </tr>\n",
       "  </thead>\n",
       "  <tbody>\n",
       "    <tr>\n",
       "      <th>Price</th>\n",
       "      <td>1.000000</td>\n",
       "      <td>-0.129785</td>\n",
       "      <td>0.041670</td>\n",
       "      <td>-0.181988</td>\n",
       "      <td>-0.009232</td>\n",
       "    </tr>\n",
       "    <tr>\n",
       "      <th>Temperature</th>\n",
       "      <td>-0.129785</td>\n",
       "      <td>1.000000</td>\n",
       "      <td>-0.767163</td>\n",
       "      <td>0.272562</td>\n",
       "      <td>-0.085410</td>\n",
       "    </tr>\n",
       "    <tr>\n",
       "      <th>Consumption</th>\n",
       "      <td>0.041670</td>\n",
       "      <td>-0.767163</td>\n",
       "      <td>1.000000</td>\n",
       "      <td>-0.260285</td>\n",
       "      <td>0.386584</td>\n",
       "    </tr>\n",
       "    <tr>\n",
       "      <th>Storage</th>\n",
       "      <td>-0.181988</td>\n",
       "      <td>0.272562</td>\n",
       "      <td>-0.260285</td>\n",
       "      <td>1.000000</td>\n",
       "      <td>-0.006339</td>\n",
       "    </tr>\n",
       "    <tr>\n",
       "      <th>Exports</th>\n",
       "      <td>-0.009232</td>\n",
       "      <td>-0.085410</td>\n",
       "      <td>0.386584</td>\n",
       "      <td>-0.006339</td>\n",
       "      <td>1.000000</td>\n",
       "    </tr>\n",
       "  </tbody>\n",
       "</table>\n",
       "</div>"
      ],
      "text/plain": [
       "                Price  Temperature  Consumption   Storage   Exports\n",
       "Price        1.000000    -0.129785     0.041670 -0.181988 -0.009232\n",
       "Temperature -0.129785     1.000000    -0.767163  0.272562 -0.085410\n",
       "Consumption  0.041670    -0.767163     1.000000 -0.260285  0.386584\n",
       "Storage     -0.181988     0.272562    -0.260285  1.000000 -0.006339\n",
       "Exports     -0.009232    -0.085410     0.386584 -0.006339  1.000000"
      ]
     },
     "execution_count": 17,
     "metadata": {},
     "output_type": "execute_result"
    }
   ],
   "source": [
    "# Use the corr function to compute the correlation between the lagged Google Trends data, price returns, and stock volatility\n",
    "df_corr=df_ng[[\"Price\", \"Temperature\", \"Consumption\", \"Storage\", \"Exports\"]].corr()\n",
    "df_corr"
   ]
  },
  {
   "cell_type": "markdown",
   "metadata": {},
   "source": [
    "### Step 2: Generate HeatMap"
   ]
  },
  {
   "cell_type": "code",
   "execution_count": 18,
   "metadata": {},
   "outputs": [],
   "source": [
    "# !pip install seaborn\n",
    "import seaborn as sns"
   ]
  },
  {
   "cell_type": "code",
   "execution_count": 19,
   "metadata": {},
   "outputs": [
    {
     "data": {
      "text/plain": [
       "<AxesSubplot:>"
      ]
     },
     "execution_count": 19,
     "metadata": {},
     "output_type": "execute_result"
    },
    {
     "data": {
      "image/png": "[encoded data removed]",
      "text/plain": [
       "<Figure size 432x288 with 2 Axes>"
      ]
     },
     "metadata": {
      "needs_background": "light"
     },
     "output_type": "display_data"
    }
   ],
   "source": [
    "sns.heatmap(df_corr, annot=True, cmap='Blues')"
   ]
  },
  {
   "cell_type": "code",
   "execution_count": null,
   "metadata": {},
   "outputs": [],
   "source": []
  }
 ],
 "metadata": {
  "kernelspec": {
   "display_name": "Python 3 (ipykernel)",
   "language": "python",
   "name": "python3"
  },
  "language_info": {
   "codemirror_mode": {
    "name": "ipython",
    "version": 3
   },
   "file_extension": ".py",
   "mimetype": "text/x-python",
   "name": "python",
   "nbconvert_exporter": "python",
   "pygments_lexer": "ipython3",
   "version": "3.9.7"
  }
 },
 "nbformat": 4,
 "nbformat_minor": 4
}
